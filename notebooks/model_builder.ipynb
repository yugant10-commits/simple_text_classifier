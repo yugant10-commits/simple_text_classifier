{
 "cells": [
  {
   "cell_type": "code",
   "execution_count": 13,
   "metadata": {},
   "outputs": [],
   "source": [
    "import pandas as pd\n",
    "\n",
    "train_df = pd.read_csv('data/training_data.csv')\n",
    "test_df = pd.read_csv('data/test_data.csv')"
   ]
  },
  {
   "cell_type": "code",
   "execution_count": 16,
   "metadata": {},
   "outputs": [
    {
     "data": {
      "application/vnd.jupyter.widget-view+json": {
       "model_id": "b1b5bc5eb3c74c0989cac35b0e70093a",
       "version_major": 2,
       "version_minor": 0
      },
      "text/plain": [
       "Map:   0%|          | 0/120000 [00:00<?, ? examples/s]"
      ]
     },
     "metadata": {},
     "output_type": "display_data"
    },
    {
     "data": {
      "application/vnd.jupyter.widget-view+json": {
       "model_id": "c9621aa88e4e4350932b0a96a5b17d20",
       "version_major": 2,
       "version_minor": 0
      },
      "text/plain": [
       "Map:   0%|          | 0/20 [00:00<?, ? examples/s]"
      ]
     },
     "metadata": {},
     "output_type": "display_data"
    }
   ],
   "source": [
    "from datasets import Dataset\n",
    "from transformers import AutoTokenizer\n",
    "\n",
    "def tokenize_function(examples):\n",
    "    return tokenizer(examples[\"text\"], truncation=True)\n",
    "tokenizer = AutoTokenizer.from_pretrained(\"distilbert/distilbert-base-uncased\")\n",
    "train_df['label'] = train_df['label'].astype(int)\n",
    "test_df['label'] = test_df['label'].astype(int)\n",
    "train_dataset = Dataset.from_pandas(train_df)\n",
    "test_dataset = Dataset.from_pandas(test_df)\n",
    "tokenized_train = train_dataset.map(tokenize_function, batched=True)\n",
    "tokenized_test = test_dataset.map(tokenize_function, batched=True)"
   ]
  },
  {
   "cell_type": "code",
   "execution_count": 17,
   "metadata": {},
   "outputs": [],
   "source": [
    "from transformers import DataCollatorWithPadding\n",
    "\n",
    "data_collator = DataCollatorWithPadding(tokenizer=tokenizer)"
   ]
  },
  {
   "cell_type": "code",
   "execution_count": 18,
   "metadata": {},
   "outputs": [],
   "source": [
    "import numpy as np\n",
    "import evaluate\n",
    "from sklearn.metrics import accuracy_score, precision_recall_fscore_support\n",
    "\n",
    "def compute_metrics(eval_pred):\n",
    "    logits, labels = eval_pred\n",
    "    predictions = np.argmax(logits, axis=-1)\n",
    "    precision, recall, f1, _ = precision_recall_fscore_support(labels, predictions, average='weighted')\n",
    "    acc = accuracy_score(labels, predictions)\n",
    "    return {\n",
    "        'accuracy': acc,\n",
    "        'f1': f1,\n",
    "        'precision': precision,\n",
    "        'recall': recall\n",
    "    }"
   ]
  },
  {
   "cell_type": "code",
   "execution_count": 19,
   "metadata": {},
   "outputs": [],
   "source": [
    "id2label = {0: \"World\", 1: \"SPORTS\", 2: \"BUSINESS\", 3: \"SCI/TECH\"}\n",
    "label2id = {\"World\": 0, \"SPORTS\": 1, \"BUSINESS\": 2, \"SCI/TECH\": 3}"
   ]
  },
  {
   "cell_type": "code",
   "execution_count": 20,
   "metadata": {},
   "outputs": [
    {
     "name": "stderr",
     "output_type": "stream",
     "text": [
      "Some weights of DistilBertForSequenceClassification were not initialized from the model checkpoint at distilbert/distilbert-base-uncased and are newly initialized: ['classifier.bias', 'classifier.weight', 'pre_classifier.bias', 'pre_classifier.weight']\n",
      "You should probably TRAIN this model on a down-stream task to be able to use it for predictions and inference.\n"
     ]
    }
   ],
   "source": [
    "from transformers import AutoModelForSequenceClassification, TrainingArguments, Trainer\n",
    "\n",
    "model = AutoModelForSequenceClassification.from_pretrained(\n",
    "    \"distilbert/distilbert-base-uncased\", num_labels=4, id2label=id2label, label2id=label2id\n",
    ")"
   ]
  },
  {
   "cell_type": "code",
   "execution_count": 21,
   "metadata": {},
   "outputs": [
    {
     "name": "stderr",
     "output_type": "stream",
     "text": [
      "/Users/yugantghimire/.virtualenvs/new-ext/lib/python3.13/site-packages/transformers/training_args.py:1573: FutureWarning: `evaluation_strategy` is deprecated and will be removed in version 4.46 of 🤗 Transformers. Use `eval_strategy` instead\n",
      "  warnings.warn(\n",
      "/var/folders/gt/_d4704p95j744p74vdc812040000gn/T/ipykernel_9538/777474594.py:14: FutureWarning: `tokenizer` is deprecated and will be removed in version 5.0.0 for `Trainer.__init__`. Use `processing_class` instead.\n",
      "  trainer = Trainer(\n"
     ]
    },
    {
     "data": {
      "application/vnd.jupyter.widget-view+json": {
       "model_id": "e1b41130d63e4f3aa5dc88391ecbf9eb",
       "version_major": 2,
       "version_minor": 0
      },
      "text/plain": [
       "  0%|          | 0/15000 [00:00<?, ?it/s]"
      ]
     },
     "metadata": {},
     "output_type": "display_data"
    },
    {
     "name": "stdout",
     "output_type": "stream",
     "text": [
      "{'loss': 0.4237, 'grad_norm': 2.833117961883545, 'learning_rate': 1.9333333333333333e-05, 'epoch': 0.07}\n",
      "{'loss': 0.2688, 'grad_norm': 3.2332396507263184, 'learning_rate': 1.866666666666667e-05, 'epoch': 0.13}\n",
      "{'loss': 0.2388, 'grad_norm': 23.668598175048828, 'learning_rate': 1.8e-05, 'epoch': 0.2}\n",
      "{'loss': 0.2265, 'grad_norm': 6.600277423858643, 'learning_rate': 1.7333333333333336e-05, 'epoch': 0.27}\n",
      "{'loss': 0.2309, 'grad_norm': 0.37740713357925415, 'learning_rate': 1.6666666666666667e-05, 'epoch': 0.33}\n",
      "{'loss': 0.2384, 'grad_norm': 9.076156616210938, 'learning_rate': 1.6000000000000003e-05, 'epoch': 0.4}\n",
      "{'loss': 0.2075, 'grad_norm': 7.358345985412598, 'learning_rate': 1.5333333333333334e-05, 'epoch': 0.47}\n",
      "{'loss': 0.2162, 'grad_norm': 8.738639831542969, 'learning_rate': 1.4666666666666666e-05, 'epoch': 0.53}\n",
      "{'loss': 0.2081, 'grad_norm': 13.335493087768555, 'learning_rate': 1.4e-05, 'epoch': 0.6}\n",
      "{'loss': 0.1935, 'grad_norm': 7.335050106048584, 'learning_rate': 1.3333333333333333e-05, 'epoch': 0.67}\n",
      "{'loss': 0.2001, 'grad_norm': 0.38072049617767334, 'learning_rate': 1.2666666666666667e-05, 'epoch': 0.73}\n",
      "{'loss': 0.1951, 'grad_norm': 4.4203362464904785, 'learning_rate': 1.2e-05, 'epoch': 0.8}\n",
      "{'loss': 0.2013, 'grad_norm': 5.333555221557617, 'learning_rate': 1.1333333333333334e-05, 'epoch': 0.87}\n",
      "{'loss': 0.1837, 'grad_norm': 7.500239372253418, 'learning_rate': 1.0666666666666667e-05, 'epoch': 0.93}\n",
      "{'loss': 0.1958, 'grad_norm': 4.469132900238037, 'learning_rate': 1e-05, 'epoch': 1.0}\n"
     ]
    },
    {
     "data": {
      "application/vnd.jupyter.widget-view+json": {
       "model_id": "70525e7c1d3b40e29fbd3d5032d7f389",
       "version_major": 2,
       "version_minor": 0
      },
      "text/plain": [
       "  0%|          | 0/2 [00:00<?, ?it/s]"
      ]
     },
     "metadata": {},
     "output_type": "display_data"
    },
    {
     "name": "stdout",
     "output_type": "stream",
     "text": [
      "{'eval_loss': 0.2775806486606598, 'eval_accuracy': 0.85, 'eval_f1': 0.8494949494949495, 'eval_precision': 0.8583333333333334, 'eval_recall': 0.85, 'eval_runtime': 0.5731, 'eval_samples_per_second': 34.896, 'eval_steps_per_second': 3.49, 'epoch': 1.0}\n",
      "{'loss': 0.1446, 'grad_norm': 5.626241207122803, 'learning_rate': 9.333333333333334e-06, 'epoch': 1.07}\n",
      "{'loss': 0.145, 'grad_norm': 6.456864833831787, 'learning_rate': 8.666666666666668e-06, 'epoch': 1.13}\n",
      "{'loss': 0.1349, 'grad_norm': 10.182358741760254, 'learning_rate': 8.000000000000001e-06, 'epoch': 1.2}\n",
      "{'loss': 0.1394, 'grad_norm': 0.04425851255655289, 'learning_rate': 7.333333333333333e-06, 'epoch': 1.27}\n",
      "{'loss': 0.1347, 'grad_norm': 2.49580979347229, 'learning_rate': 6.666666666666667e-06, 'epoch': 1.33}\n",
      "{'loss': 0.1375, 'grad_norm': 4.438701629638672, 'learning_rate': 6e-06, 'epoch': 1.4}\n",
      "{'loss': 0.1453, 'grad_norm': 5.244363784790039, 'learning_rate': 5.333333333333334e-06, 'epoch': 1.47}\n",
      "{'loss': 0.1234, 'grad_norm': 6.197744369506836, 'learning_rate': 4.666666666666667e-06, 'epoch': 1.53}\n",
      "{'loss': 0.1336, 'grad_norm': 0.08611981570720673, 'learning_rate': 4.000000000000001e-06, 'epoch': 1.6}\n",
      "{'loss': 0.1297, 'grad_norm': 8.454079627990723, 'learning_rate': 3.3333333333333333e-06, 'epoch': 1.67}\n",
      "{'loss': 0.1388, 'grad_norm': 0.16595730185508728, 'learning_rate': 2.666666666666667e-06, 'epoch': 1.73}\n",
      "{'loss': 0.127, 'grad_norm': 15.16446590423584, 'learning_rate': 2.0000000000000003e-06, 'epoch': 1.8}\n",
      "{'loss': 0.1301, 'grad_norm': 0.2104325294494629, 'learning_rate': 1.3333333333333334e-06, 'epoch': 1.87}\n",
      "{'loss': 0.1404, 'grad_norm': 11.545833587646484, 'learning_rate': 6.666666666666667e-07, 'epoch': 1.93}\n",
      "{'loss': 0.1369, 'grad_norm': 0.11065395921468735, 'learning_rate': 0.0, 'epoch': 2.0}\n"
     ]
    },
    {
     "data": {
      "application/vnd.jupyter.widget-view+json": {
       "model_id": "74e47cdddb83439ea2cef33a10c66f4a",
       "version_major": 2,
       "version_minor": 0
      },
      "text/plain": [
       "  0%|          | 0/2 [00:00<?, ?it/s]"
      ]
     },
     "metadata": {},
     "output_type": "display_data"
    },
    {
     "name": "stdout",
     "output_type": "stream",
     "text": [
      "{'eval_loss': 0.7610310912132263, 'eval_accuracy': 0.75, 'eval_f1': 0.7443181818181819, 'eval_precision': 0.7827380952380952, 'eval_recall': 0.75, 'eval_runtime': 0.1849, 'eval_samples_per_second': 108.157, 'eval_steps_per_second': 10.816, 'epoch': 2.0}\n",
      "{'train_runtime': 4771.0294, 'train_samples_per_second': 50.304, 'train_steps_per_second': 3.144, 'train_loss': 0.1823235850016276, 'epoch': 2.0}\n"
     ]
    },
    {
     "data": {
      "text/plain": [
       "TrainOutput(global_step=15000, training_loss=0.1823235850016276, metrics={'train_runtime': 4771.0294, 'train_samples_per_second': 50.304, 'train_steps_per_second': 3.144, 'total_flos': 7948327403520000.0, 'train_loss': 0.1823235850016276, 'epoch': 2.0})"
      ]
     },
     "execution_count": 21,
     "metadata": {},
     "output_type": "execute_result"
    }
   ],
   "source": [
    "training_args = TrainingArguments(\n",
    "    output_dir=\"my_awesome_model\",\n",
    "    learning_rate=2e-5,\n",
    "    per_device_train_batch_size=16,\n",
    "    per_device_eval_batch_size=16,\n",
    "    num_train_epochs=2,\n",
    "    weight_decay=0.01,\n",
    "    evaluation_strategy=\"epoch\",  # Corrected from eval_strategy\n",
    "    save_strategy=\"epoch\",\n",
    "    load_best_model_at_end=True,\n",
    "    metric_for_best_model=\"f1\",\n",
    ")\n",
    "\n",
    "trainer = Trainer(\n",
    "    model=model,\n",
    "    args=training_args,\n",
    "    train_dataset=tokenized_train,  # Use the tokenized datasets\n",
    "    eval_dataset=tokenized_test,\n",
    "    tokenizer=tokenizer,  # Corrected from processing_class\n",
    "    data_collator=data_collator,\n",
    "    compute_metrics=compute_metrics,\n",
    ")\n",
    "\n",
    "# Start training\n",
    "trainer.train()"
   ]
  },
  {
   "cell_type": "code",
   "execution_count": null,
   "metadata": {},
   "outputs": [],
   "source": [
    "{'eval_loss': 0.7610310912132263, 'eval_accuracy': 0.75, 'eval_f1': 0.7443181818181819, 'eval_precision': 0.7827380952380952, 'eval_recall': 0.75, 'eval_runtime': 0.1849, 'eval_samples_per_second': 108.157, 'eval_steps_per_second': 10.816, 'epoch': 2.0}\n",
    "{'train_runtime': 4771.0294, 'train_samples_per_second': 50.304, 'train_steps_per_second': 3.144, 'train_loss': 0.1823235850016276, 'epoch': 2.0}\n",
    "(global_step=15000, training_loss=0.1823235850016276, metrics={'train_runtime': 4771.0294, 'train_samples_per_second': 50.304, 'train_steps_per_second': 3.144, 'total_flos': 7948327403520000.0, 'train_loss': 0.1823235850016276, 'epoch': 2.0})"
   ]
  }
 ],
 "metadata": {
  "kernelspec": {
   "display_name": "new-ext",
   "language": "python",
   "name": "python3"
  },
  "language_info": {
   "codemirror_mode": {
    "name": "ipython",
    "version": 3
   },
   "file_extension": ".py",
   "mimetype": "text/x-python",
   "name": "python",
   "nbconvert_exporter": "python",
   "pygments_lexer": "ipython3",
   "version": "3.13.1"
  }
 },
 "nbformat": 4,
 "nbformat_minor": 2
}
